{
 "cells": [
  {
   "cell_type": "code",
   "execution_count": 2,
   "id": "c7658027-f0f7-4b84-826a-2d5ae1942c77",
   "metadata": {},
   "outputs": [],
   "source": [
    "import numpy as np \n",
    "from nnfs.datasets import spiral_data"
   ]
  },
  {
   "cell_type": "code",
   "execution_count": 3,
   "id": "7d5b2b24-8275-44a9-ae0a-aa1584e986a6",
   "metadata": {},
   "outputs": [
    {
     "name": "stdout",
     "output_type": "stream",
     "text": [
      "[[0.33333333 0.33333333 0.33333333]\n",
      " [0.333333   0.33333826 0.33332874]\n",
      " [0.33333314 0.33333117 0.33333569]\n",
      " [0.33335396 0.33316856 0.33347748]\n",
      " [0.33333149 0.33334636 0.33332215]]\n"
     ]
    }
   ],
   "source": [
    "# rede neural simples\n",
    "# com camadas densas (fully connected layers), funções de ativação:\n",
    "# ReLU e SoftMax.\n",
    "\n",
    "class Layer_densa():\n",
    "    def __init__(self, n_inputs, n_neuronios):\n",
    "        # Inicializando os pesos (weights) com valores aleatórios a partir de uma distribuição normal\n",
    "        # e os vieses (biases) com zeros. \n",
    "        # n_inputs: número de entradas (features) que a camada recebe.\n",
    "        # n_neuronios: número de neurônios nesta camada.\n",
    "        self.weights = 0.1*np.random.randn(n_inputs, n_neuronios)  # Peso inicial pequeno\n",
    "        self.biases = np.zeros((1, n_neuronios))  # Bias inicializado com zero\n",
    "    \n",
    "    def foward(self, inputs):\n",
    "        # A operação 'forward pass' da camada: multiplicação de inputs pelos pesos + bias\n",
    "        # np.dot faz o produto escalar entre inputs e pesos, e somamos os biases.\n",
    "        self.output = np.dot(inputs, self.weights) + self.biases  # Calculando a saída da camada\n",
    "\n",
    "# Função de ativação ReLU (Rectified Linear Unit)\n",
    "class ReLu():\n",
    "    def foward(self, inputs):\n",
    "        # A função ReLU retorna o maior valor entre o input e 0, \n",
    "        # ou seja, ela \"zera\" todos os valores negativos.\n",
    "        # Essa função introduz não linearidade no modelo.\n",
    "        self.output = np.maximum(0, inputs)  # Se a entrada for negativa, torna-se 0; caso contrário, permanece igual.\n",
    "        \n",
    "# Função de ativação SoftMax\n",
    "class SoftMax():\n",
    "    def foward(self, inputs):\n",
    "        # A função SoftMax é usada para converter os valores de saída em uma distribuição de probabilidade.\n",
    "        # Isso é feito aplicando a exponencial aos inputs e normalizando a soma dos resultados para 1.\n",
    "        \n",
    "        # Subtraímos o valor máximo de cada input para evitar problemas numéricos (overflow).\n",
    "        exp_valores = np.exp(inputs - np.max(inputs, axis=1, keepdims=True))  \n",
    "        \n",
    "        # Normalizamos os valores exponenciais para que a soma de cada linha seja igual a 1.\n",
    "        probabilidades = exp_valores / np.sum(exp_valores, axis=1, keepdims=True)\n",
    "        \n",
    "        # A saída é uma distribuição de probabilidades entre as classes.\n",
    "        self.output = probabilidades\n",
    "\n",
    "# Gerando dados de exemplo para o treinamento, usando a função spiral_data.\n",
    "# Aqui, X são as entradas e y são as saídas correspondentes.\n",
    "X, y = spiral_data(samples=100, classes=3)  # Gerando 100 amostras de 3 classes, forma espiral\n",
    "\n",
    "# Criando a primeira camada densa: 2 entradas (features) e 3 neurônios na camada.\n",
    "layer1 = Layer_densa(2, 3)\n",
    "\n",
    "# Criando a função de ativação ReLU para a primeira camada.\n",
    "activation1 = ReLu()\n",
    "\n",
    "# Criando a segunda camada densa: 3 entradas (da camada anterior) e 3 neurônios na camada.\n",
    "layer2 = Layer_densa(3, 3)\n",
    "\n",
    "# Criando a função de ativação SoftMax para a saída final.\n",
    "activation2 = SoftMax()\n",
    "\n",
    "# Passando os dados de entrada pela primeira camada, seguido pela ativação ReLU\n",
    "layer1.foward(X)  \n",
    "activation1.foward(layer1.output)\n",
    "\n",
    "# Passando a saída da primeira camada pela segunda camada, seguido pela ativação SoftMax\n",
    "layer2.foward(activation1.output)  \n",
    "activation2.foward(layer2.output)\n",
    "\n",
    "# Imprimindo as primeiras 5 previsões (probabilidades de cada classe)\n",
    "# Cada linha representa a distribuição de probabilidade para uma amostra.\n",
    "print(activation2.output[:5])\n"
   ]
  },
  {
   "cell_type": "code",
   "execution_count": null,
   "id": "543f8022-98ed-4353-bc8c-f385ad131f2f",
   "metadata": {},
   "outputs": [],
   "source": []
  }
 ],
 "metadata": {
  "kernelspec": {
   "display_name": "Python 3 (ipykernel)",
   "language": "python",
   "name": "python3"
  },
  "language_info": {
   "codemirror_mode": {
    "name": "ipython",
    "version": 3
   },
   "file_extension": ".py",
   "mimetype": "text/x-python",
   "name": "python",
   "nbconvert_exporter": "python",
   "pygments_lexer": "ipython3",
   "version": "3.12.7"
  }
 },
 "nbformat": 4,
 "nbformat_minor": 5
}
